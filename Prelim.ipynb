{
 "cells": [
  {
   "cell_type": "code",
   "execution_count": 16,
   "metadata": {},
   "outputs": [],
   "source": [
    "import numpy as np\n",
    "import pandas as pd\n",
    "import matplotlib.pyplot as plt\n",
    "%matplotlib inline\n",
    "import src.data_etl as etl\n",
    "import imp\n",
    "imp.reload(etl);"
   ]
  },
  {
   "cell_type": "code",
   "execution_count": 3,
   "metadata": {},
   "outputs": [],
   "source": [
    "funding_rounds = pd.read_csv('startup-investments/funding_rounds.csv',low_memory=False)\n",
    "people = pd.read_csv('startup-investments/people.csv',low_memory=False)\n",
    "objects = pd.read_csv('startup-investments/objects.csv',low_memory=False)\n",
    "funds = pd.read_csv('startup-investments/funds.csv',low_memory=False)\n",
    "degrees = pd.read_csv('startup-investments/degrees.csv',low_memory=False)\n",
    "relationships = pd.read_csv('startup-investments/relationships.csv',low_memory=False)\n",
    "offices = pd.read_csv('startup-investments/offices.csv',low_memory=False)\n",
    "investments = pd.read_csv('startup-investments/investments.csv',low_memory=False)\n",
    "milestones = pd.read_csv('startup-investments/milestones.csv',low_memory=False)\n",
    "acquisitions = pd.read_csv('startup-investments/acquisitions.csv',low_memory=False)"
   ]
  },
  {
   "cell_type": "code",
   "execution_count": 63,
   "metadata": {},
   "outputs": [],
   "source": [
    "acq_df, ipo_df , offices_df, relationship_df, fundraise_df = etl.load_data()"
   ]
  },
  {
   "cell_type": "code",
   "execution_count": 64,
   "metadata": {
    "scrolled": true
   },
   "outputs": [
    {
     "data": {
      "text/html": [
       "<div>\n",
       "<style scoped>\n",
       "    .dataframe tbody tr th:only-of-type {\n",
       "        vertical-align: middle;\n",
       "    }\n",
       "\n",
       "    .dataframe tbody tr th {\n",
       "        vertical-align: top;\n",
       "    }\n",
       "\n",
       "    .dataframe thead th {\n",
       "        text-align: right;\n",
       "    }\n",
       "</style>\n",
       "<table border=\"1\" class=\"dataframe\">\n",
       "  <thead>\n",
       "    <tr style=\"text-align: right;\">\n",
       "      <th></th>\n",
       "      <th>name</th>\n",
       "      <th>object_id</th>\n",
       "      <th>price_currency_code</th>\n",
       "      <th>price_amount</th>\n",
       "      <th>acquiring_company</th>\n",
       "      <th>created_at</th>\n",
       "    </tr>\n",
       "  </thead>\n",
       "  <tbody>\n",
       "    <tr>\n",
       "      <td>0</td>\n",
       "      <td>Flektor</td>\n",
       "      <td>c:10</td>\n",
       "      <td>USD</td>\n",
       "      <td>20000000.0</td>\n",
       "      <td>Fox Interactive Media</td>\n",
       "      <td>2007-05-31 22:19:54</td>\n",
       "    </tr>\n",
       "  </tbody>\n",
       "</table>\n",
       "</div>"
      ],
      "text/plain": [
       "      name object_id price_currency_code  price_amount      acquiring_company  \\\n",
       "0  Flektor      c:10                 USD    20000000.0  Fox Interactive Media   \n",
       "\n",
       "            created_at  \n",
       "0  2007-05-31 22:19:54  "
      ]
     },
     "execution_count": 64,
     "metadata": {},
     "output_type": "execute_result"
    }
   ],
   "source": [
    "acq_df.head(1)"
   ]
  },
  {
   "cell_type": "code",
   "execution_count": 65,
   "metadata": {},
   "outputs": [
    {
     "data": {
      "text/html": [
       "<div>\n",
       "<style scoped>\n",
       "    .dataframe tbody tr th:only-of-type {\n",
       "        vertical-align: middle;\n",
       "    }\n",
       "\n",
       "    .dataframe tbody tr th {\n",
       "        vertical-align: top;\n",
       "    }\n",
       "\n",
       "    .dataframe thead th {\n",
       "        text-align: right;\n",
       "    }\n",
       "</style>\n",
       "<table border=\"1\" class=\"dataframe\">\n",
       "  <thead>\n",
       "    <tr style=\"text-align: right;\">\n",
       "      <th></th>\n",
       "      <th>name</th>\n",
       "      <th>object_id</th>\n",
       "      <th>stock_symbol</th>\n",
       "      <th>valuation_currency_code</th>\n",
       "      <th>valuation_amount</th>\n",
       "      <th>public_at</th>\n",
       "    </tr>\n",
       "  </thead>\n",
       "  <tbody>\n",
       "    <tr>\n",
       "      <td>0</td>\n",
       "      <td>Apple</td>\n",
       "      <td>c:1654</td>\n",
       "      <td>NASDAQ:AAPL</td>\n",
       "      <td>USD</td>\n",
       "      <td>0.0</td>\n",
       "      <td>1980-12-19</td>\n",
       "    </tr>\n",
       "  </tbody>\n",
       "</table>\n",
       "</div>"
      ],
      "text/plain": [
       "    name object_id stock_symbol valuation_currency_code  valuation_amount  \\\n",
       "0  Apple    c:1654  NASDAQ:AAPL                     USD               0.0   \n",
       "\n",
       "    public_at  \n",
       "0  1980-12-19  "
      ]
     },
     "execution_count": 65,
     "metadata": {},
     "output_type": "execute_result"
    }
   ],
   "source": [
    "ipo_df.head(1)"
   ]
  },
  {
   "cell_type": "code",
   "execution_count": 66,
   "metadata": {},
   "outputs": [],
   "source": [
    "acq_df['year'] = pd.to_datetime(acq_df['created_at']).apply(lambda x: x.year)\n",
    "acq_df.drop('created_at',axis=1,inplace=True)"
   ]
  },
  {
   "cell_type": "code",
   "execution_count": 67,
   "metadata": {},
   "outputs": [],
   "source": [
    "acq_df['exit_type'] = 'Acquired'"
   ]
  },
  {
   "cell_type": "code",
   "execution_count": 68,
   "metadata": {},
   "outputs": [],
   "source": [
    "acq_df = acq_df[['object_id','exit_type','acquiring_company','year','price_currency_code','price_amount']]"
   ]
  },
  {
   "cell_type": "code",
   "execution_count": 69,
   "metadata": {},
   "outputs": [
    {
     "data": {
      "text/html": [
       "<div>\n",
       "<style scoped>\n",
       "    .dataframe tbody tr th:only-of-type {\n",
       "        vertical-align: middle;\n",
       "    }\n",
       "\n",
       "    .dataframe tbody tr th {\n",
       "        vertical-align: top;\n",
       "    }\n",
       "\n",
       "    .dataframe thead th {\n",
       "        text-align: right;\n",
       "    }\n",
       "</style>\n",
       "<table border=\"1\" class=\"dataframe\">\n",
       "  <thead>\n",
       "    <tr style=\"text-align: right;\">\n",
       "      <th></th>\n",
       "      <th>object_id</th>\n",
       "      <th>exit_type</th>\n",
       "      <th>acquiring_company</th>\n",
       "      <th>year</th>\n",
       "      <th>price_currency_code</th>\n",
       "      <th>price_amount</th>\n",
       "    </tr>\n",
       "  </thead>\n",
       "  <tbody>\n",
       "    <tr>\n",
       "      <td>0</td>\n",
       "      <td>c:10</td>\n",
       "      <td>Acquired</td>\n",
       "      <td>Fox Interactive Media</td>\n",
       "      <td>2007</td>\n",
       "      <td>USD</td>\n",
       "      <td>20000000.0</td>\n",
       "    </tr>\n",
       "  </tbody>\n",
       "</table>\n",
       "</div>"
      ],
      "text/plain": [
       "  object_id exit_type      acquiring_company  year price_currency_code  \\\n",
       "0      c:10  Acquired  Fox Interactive Media  2007                 USD   \n",
       "\n",
       "   price_amount  \n",
       "0    20000000.0  "
      ]
     },
     "execution_count": 69,
     "metadata": {},
     "output_type": "execute_result"
    }
   ],
   "source": [
    "acq_df.head(1)"
   ]
  },
  {
   "cell_type": "code",
   "execution_count": 70,
   "metadata": {},
   "outputs": [],
   "source": [
    "ipo_df['year'] = pd.to_datetime(ipo_df['public_at']).apply(lambda x: x.year)"
   ]
  },
  {
   "cell_type": "code",
   "execution_count": 71,
   "metadata": {},
   "outputs": [],
   "source": [
    "ipo_df['exit_type'] = 'IPO'"
   ]
  },
  {
   "cell_type": "code",
   "execution_count": 72,
   "metadata": {},
   "outputs": [],
   "source": [
    "ipo_df = ipo_df[['object_id','exit_type','stock_symbol','year','valuation_currency_code','valuation_amount']]"
   ]
  },
  {
   "cell_type": "code",
   "execution_count": 73,
   "metadata": {},
   "outputs": [
    {
     "data": {
      "text/html": [
       "<div>\n",
       "<style scoped>\n",
       "    .dataframe tbody tr th:only-of-type {\n",
       "        vertical-align: middle;\n",
       "    }\n",
       "\n",
       "    .dataframe tbody tr th {\n",
       "        vertical-align: top;\n",
       "    }\n",
       "\n",
       "    .dataframe thead th {\n",
       "        text-align: right;\n",
       "    }\n",
       "</style>\n",
       "<table border=\"1\" class=\"dataframe\">\n",
       "  <thead>\n",
       "    <tr style=\"text-align: right;\">\n",
       "      <th></th>\n",
       "      <th>object_id</th>\n",
       "      <th>exit_type</th>\n",
       "      <th>acquiring_company</th>\n",
       "      <th>year</th>\n",
       "      <th>price_currency_code</th>\n",
       "      <th>price_amount</th>\n",
       "    </tr>\n",
       "  </thead>\n",
       "  <tbody>\n",
       "    <tr>\n",
       "      <td>0</td>\n",
       "      <td>c:10</td>\n",
       "      <td>Acquired</td>\n",
       "      <td>Fox Interactive Media</td>\n",
       "      <td>2007</td>\n",
       "      <td>USD</td>\n",
       "      <td>20000000.0</td>\n",
       "    </tr>\n",
       "  </tbody>\n",
       "</table>\n",
       "</div>"
      ],
      "text/plain": [
       "  object_id exit_type      acquiring_company  year price_currency_code  \\\n",
       "0      c:10  Acquired  Fox Interactive Media  2007                 USD   \n",
       "\n",
       "   price_amount  \n",
       "0    20000000.0  "
      ]
     },
     "execution_count": 73,
     "metadata": {},
     "output_type": "execute_result"
    }
   ],
   "source": [
    "acq_df.head(1)"
   ]
  },
  {
   "cell_type": "code",
   "execution_count": 74,
   "metadata": {},
   "outputs": [
    {
     "data": {
      "text/html": [
       "<div>\n",
       "<style scoped>\n",
       "    .dataframe tbody tr th:only-of-type {\n",
       "        vertical-align: middle;\n",
       "    }\n",
       "\n",
       "    .dataframe tbody tr th {\n",
       "        vertical-align: top;\n",
       "    }\n",
       "\n",
       "    .dataframe thead th {\n",
       "        text-align: right;\n",
       "    }\n",
       "</style>\n",
       "<table border=\"1\" class=\"dataframe\">\n",
       "  <thead>\n",
       "    <tr style=\"text-align: right;\">\n",
       "      <th></th>\n",
       "      <th>object_id</th>\n",
       "      <th>exit_type</th>\n",
       "      <th>stock_symbol</th>\n",
       "      <th>year</th>\n",
       "      <th>valuation_currency_code</th>\n",
       "      <th>valuation_amount</th>\n",
       "    </tr>\n",
       "  </thead>\n",
       "  <tbody>\n",
       "    <tr>\n",
       "      <td>0</td>\n",
       "      <td>c:1654</td>\n",
       "      <td>IPO</td>\n",
       "      <td>NASDAQ:AAPL</td>\n",
       "      <td>1980.0</td>\n",
       "      <td>USD</td>\n",
       "      <td>0.0</td>\n",
       "    </tr>\n",
       "  </tbody>\n",
       "</table>\n",
       "</div>"
      ],
      "text/plain": [
       "  object_id exit_type stock_symbol    year valuation_currency_code  \\\n",
       "0    c:1654       IPO  NASDAQ:AAPL  1980.0                     USD   \n",
       "\n",
       "   valuation_amount  \n",
       "0               0.0  "
      ]
     },
     "execution_count": 74,
     "metadata": {},
     "output_type": "execute_result"
    }
   ],
   "source": [
    "ipo_df.head(1)"
   ]
  },
  {
   "cell_type": "code",
   "execution_count": 75,
   "metadata": {},
   "outputs": [],
   "source": [
    "acq_df.rename(columns={'acquiring_company':'symbol/acquiring_company','price_currency_code':'currency','price_amount':'valuation'},inplace=True)"
   ]
  },
  {
   "cell_type": "code",
   "execution_count": 76,
   "metadata": {},
   "outputs": [],
   "source": [
    "ipo_df.rename(columns={'stock_symbol':'symbol/acquiring_company','valuation_currency_code':'currency','valuation_amount':'valuation'},inplace=True)"
   ]
  },
  {
   "cell_type": "code",
   "execution_count": 77,
   "metadata": {},
   "outputs": [
    {
     "data": {
      "text/html": [
       "<div>\n",
       "<style scoped>\n",
       "    .dataframe tbody tr th:only-of-type {\n",
       "        vertical-align: middle;\n",
       "    }\n",
       "\n",
       "    .dataframe tbody tr th {\n",
       "        vertical-align: top;\n",
       "    }\n",
       "\n",
       "    .dataframe thead th {\n",
       "        text-align: right;\n",
       "    }\n",
       "</style>\n",
       "<table border=\"1\" class=\"dataframe\">\n",
       "  <thead>\n",
       "    <tr style=\"text-align: right;\">\n",
       "      <th></th>\n",
       "      <th>object_id</th>\n",
       "      <th>exit_type</th>\n",
       "      <th>symbol/acquiring_company</th>\n",
       "      <th>year</th>\n",
       "      <th>currency</th>\n",
       "      <th>valuation</th>\n",
       "    </tr>\n",
       "  </thead>\n",
       "  <tbody>\n",
       "    <tr>\n",
       "      <td>0</td>\n",
       "      <td>c:10</td>\n",
       "      <td>Acquired</td>\n",
       "      <td>Fox Interactive Media</td>\n",
       "      <td>2007</td>\n",
       "      <td>USD</td>\n",
       "      <td>20000000.0</td>\n",
       "    </tr>\n",
       "  </tbody>\n",
       "</table>\n",
       "</div>"
      ],
      "text/plain": [
       "  object_id exit_type symbol/acquiring_company  year currency   valuation\n",
       "0      c:10  Acquired    Fox Interactive Media  2007      USD  20000000.0"
      ]
     },
     "execution_count": 77,
     "metadata": {},
     "output_type": "execute_result"
    }
   ],
   "source": [
    "acq_df.head(1)"
   ]
  },
  {
   "cell_type": "code",
   "execution_count": 78,
   "metadata": {},
   "outputs": [
    {
     "data": {
      "text/html": [
       "<div>\n",
       "<style scoped>\n",
       "    .dataframe tbody tr th:only-of-type {\n",
       "        vertical-align: middle;\n",
       "    }\n",
       "\n",
       "    .dataframe tbody tr th {\n",
       "        vertical-align: top;\n",
       "    }\n",
       "\n",
       "    .dataframe thead th {\n",
       "        text-align: right;\n",
       "    }\n",
       "</style>\n",
       "<table border=\"1\" class=\"dataframe\">\n",
       "  <thead>\n",
       "    <tr style=\"text-align: right;\">\n",
       "      <th></th>\n",
       "      <th>object_id</th>\n",
       "      <th>exit_type</th>\n",
       "      <th>symbol/acquiring_company</th>\n",
       "      <th>year</th>\n",
       "      <th>currency</th>\n",
       "      <th>valuation</th>\n",
       "    </tr>\n",
       "  </thead>\n",
       "  <tbody>\n",
       "    <tr>\n",
       "      <td>0</td>\n",
       "      <td>c:1654</td>\n",
       "      <td>IPO</td>\n",
       "      <td>NASDAQ:AAPL</td>\n",
       "      <td>1980.0</td>\n",
       "      <td>USD</td>\n",
       "      <td>0.0</td>\n",
       "    </tr>\n",
       "  </tbody>\n",
       "</table>\n",
       "</div>"
      ],
      "text/plain": [
       "  object_id exit_type symbol/acquiring_company    year currency  valuation\n",
       "0    c:1654       IPO              NASDAQ:AAPL  1980.0      USD        0.0"
      ]
     },
     "execution_count": 78,
     "metadata": {},
     "output_type": "execute_result"
    }
   ],
   "source": [
    "ipo_df.head(1)"
   ]
  },
  {
   "cell_type": "code",
   "execution_count": 82,
   "metadata": {},
   "outputs": [],
   "source": [
    "exits_df = pd.concat([acq_df,ipo_df])"
   ]
  },
  {
   "cell_type": "code",
   "execution_count": 106,
   "metadata": {
    "scrolled": true
   },
   "outputs": [
    {
     "data": {
      "text/html": [
       "<div>\n",
       "<style scoped>\n",
       "    .dataframe tbody tr th:only-of-type {\n",
       "        vertical-align: middle;\n",
       "    }\n",
       "\n",
       "    .dataframe tbody tr th {\n",
       "        vertical-align: top;\n",
       "    }\n",
       "\n",
       "    .dataframe thead th {\n",
       "        text-align: right;\n",
       "    }\n",
       "</style>\n",
       "<table border=\"1\" class=\"dataframe\">\n",
       "  <thead>\n",
       "    <tr style=\"text-align: right;\">\n",
       "      <th></th>\n",
       "      <th>object_id</th>\n",
       "      <th>exit_type</th>\n",
       "      <th>symbol/acquiring_company</th>\n",
       "      <th>year</th>\n",
       "      <th>currency</th>\n",
       "      <th>valuation</th>\n",
       "    </tr>\n",
       "  </thead>\n",
       "  <tbody>\n",
       "    <tr>\n",
       "      <td>0</td>\n",
       "      <td>c:10</td>\n",
       "      <td>Acquired</td>\n",
       "      <td>Fox Interactive Media</td>\n",
       "      <td>2007.0</td>\n",
       "      <td>USD</td>\n",
       "      <td>20000000.0</td>\n",
       "    </tr>\n",
       "    <tr>\n",
       "      <td>1</td>\n",
       "      <td>c:72</td>\n",
       "      <td>Acquired</td>\n",
       "      <td>Google</td>\n",
       "      <td>2007.0</td>\n",
       "      <td>USD</td>\n",
       "      <td>60000000.0</td>\n",
       "    </tr>\n",
       "    <tr>\n",
       "      <td>2</td>\n",
       "      <td>c:132</td>\n",
       "      <td>Acquired</td>\n",
       "      <td>CBS</td>\n",
       "      <td>2007.0</td>\n",
       "      <td>USD</td>\n",
       "      <td>280000000.0</td>\n",
       "    </tr>\n",
       "    <tr>\n",
       "      <td>3</td>\n",
       "      <td>c:155</td>\n",
       "      <td>Acquired</td>\n",
       "      <td>Google</td>\n",
       "      <td>2007.0</td>\n",
       "      <td>USD</td>\n",
       "      <td>100000000.0</td>\n",
       "    </tr>\n",
       "    <tr>\n",
       "      <td>4</td>\n",
       "      <td>c:215</td>\n",
       "      <td>Acquired</td>\n",
       "      <td>Scripps Networks Interactive</td>\n",
       "      <td>2007.0</td>\n",
       "      <td>USD</td>\n",
       "      <td>25000000.0</td>\n",
       "    </tr>\n",
       "    <tr>\n",
       "      <td>...</td>\n",
       "      <td>...</td>\n",
       "      <td>...</td>\n",
       "      <td>...</td>\n",
       "      <td>...</td>\n",
       "      <td>...</td>\n",
       "      <td>...</td>\n",
       "    </tr>\n",
       "    <tr>\n",
       "      <td>1254</td>\n",
       "      <td>c:267859</td>\n",
       "      <td>IPO</td>\n",
       "      <td>NYSE:EBS</td>\n",
       "      <td>NaN</td>\n",
       "      <td>USD</td>\n",
       "      <td>0.0</td>\n",
       "    </tr>\n",
       "    <tr>\n",
       "      <td>1255</td>\n",
       "      <td>c:39330</td>\n",
       "      <td>IPO</td>\n",
       "      <td>NYSE:ARMK</td>\n",
       "      <td>2013.0</td>\n",
       "      <td>USD</td>\n",
       "      <td>0.0</td>\n",
       "    </tr>\n",
       "    <tr>\n",
       "      <td>1256</td>\n",
       "      <td>c:220208</td>\n",
       "      <td>IPO</td>\n",
       "      <td>NYSE:HLT</td>\n",
       "      <td>2008.0</td>\n",
       "      <td>USD</td>\n",
       "      <td>0.0</td>\n",
       "    </tr>\n",
       "    <tr>\n",
       "      <td>1257</td>\n",
       "      <td>c:243568</td>\n",
       "      <td>IPO</td>\n",
       "      <td>OTC:BCLI</td>\n",
       "      <td>NaN</td>\n",
       "      <td>USD</td>\n",
       "      <td>0.0</td>\n",
       "    </tr>\n",
       "    <tr>\n",
       "      <td>1258</td>\n",
       "      <td>c:235945</td>\n",
       "      <td>IPO</td>\n",
       "      <td>NASDAQ:KIN</td>\n",
       "      <td>NaN</td>\n",
       "      <td>USD</td>\n",
       "      <td>0.0</td>\n",
       "    </tr>\n",
       "  </tbody>\n",
       "</table>\n",
       "<p>10821 rows × 6 columns</p>\n",
       "</div>"
      ],
      "text/plain": [
       "     object_id exit_type      symbol/acquiring_company    year currency  \\\n",
       "0         c:10  Acquired         Fox Interactive Media  2007.0      USD   \n",
       "1         c:72  Acquired                        Google  2007.0      USD   \n",
       "2        c:132  Acquired                           CBS  2007.0      USD   \n",
       "3        c:155  Acquired                        Google  2007.0      USD   \n",
       "4        c:215  Acquired  Scripps Networks Interactive  2007.0      USD   \n",
       "...        ...       ...                           ...     ...      ...   \n",
       "1254  c:267859       IPO                      NYSE:EBS     NaN      USD   \n",
       "1255   c:39330       IPO                     NYSE:ARMK  2013.0      USD   \n",
       "1256  c:220208       IPO                      NYSE:HLT  2008.0      USD   \n",
       "1257  c:243568       IPO                      OTC:BCLI     NaN      USD   \n",
       "1258  c:235945       IPO                    NASDAQ:KIN     NaN      USD   \n",
       "\n",
       "        valuation  \n",
       "0      20000000.0  \n",
       "1      60000000.0  \n",
       "2     280000000.0  \n",
       "3     100000000.0  \n",
       "4      25000000.0  \n",
       "...           ...  \n",
       "1254          0.0  \n",
       "1255          0.0  \n",
       "1256          0.0  \n",
       "1257          0.0  \n",
       "1258          0.0  \n",
       "\n",
       "[10821 rows x 6 columns]"
      ]
     },
     "execution_count": 106,
     "metadata": {},
     "output_type": "execute_result"
    }
   ],
   "source": [
    "exits_df"
   ]
  },
  {
   "cell_type": "code",
   "execution_count": 110,
   "metadata": {},
   "outputs": [
    {
     "data": {
      "text/plain": [
       "Index(['id', 'entity_type', 'entity_id', 'parent_id', 'name',\n",
       "       'normalized_name', 'permalink', 'category_code', 'status', 'founded_at',\n",
       "       'closed_at', 'domain', 'homepage_url', 'twitter_username', 'logo_url',\n",
       "       'logo_width', 'logo_height', 'short_description', 'description',\n",
       "       'overview', 'tag_list', 'country_code', 'state_code', 'city', 'region',\n",
       "       'first_investment_at', 'last_investment_at', 'investment_rounds',\n",
       "       'invested_companies', 'first_funding_at', 'last_funding_at',\n",
       "       'funding_rounds', 'funding_total_usd', 'first_milestone_at',\n",
       "       'last_milestone_at', 'milestones', 'relationships', 'created_by',\n",
       "       'created_at', 'updated_at'],\n",
       "      dtype='object')"
      ]
     },
     "execution_count": 110,
     "metadata": {},
     "output_type": "execute_result"
    }
   ],
   "source": [
    "objects.columns"
   ]
  },
  {
   "cell_type": "code",
   "execution_count": 116,
   "metadata": {
    "scrolled": true
   },
   "outputs": [],
   "source": [
    "outcomes = objects[['id','name','category_code','founded_at','funding_total_usd','status']].merge(exits_df,left_on='id',right_on='object_id',how='left')"
   ]
  },
  {
   "cell_type": "code",
   "execution_count": 122,
   "metadata": {
    "scrolled": true
   },
   "outputs": [
    {
     "data": {
      "text/plain": [
       "operating      443663\n",
       "acquired         9648\n",
       "live             4349\n",
       "closed           2773\n",
       "ipo              1135\n",
       "beta              780\n",
       "development       226\n",
       "private           219\n",
       "alpha             113\n",
       "Name: status, dtype: int64"
      ]
     },
     "execution_count": 122,
     "metadata": {},
     "output_type": "execute_result"
    }
   ],
   "source": [
    "outcomes['status'].value_counts()"
   ]
  },
  {
   "cell_type": "code",
   "execution_count": 142,
   "metadata": {},
   "outputs": [],
   "source": [
    "relationship_df.drop(relationship_df[relationship_df['title'].isnull()].index,inplace=True)"
   ]
  },
  {
   "cell_type": "code",
   "execution_count": 146,
   "metadata": {},
   "outputs": [],
   "source": [
    "relationship_df = relationship_df[relationship_df['title'].str.contains('Founder')][['person_id','id','first_name','last_name','title','name']]"
   ]
  },
  {
   "cell_type": "code",
   "execution_count": 148,
   "metadata": {},
   "outputs": [],
   "source": [
    "relationship_df.drop_duplicates(inplace=True)"
   ]
  },
  {
   "cell_type": "code",
   "execution_count": 152,
   "metadata": {},
   "outputs": [],
   "source": [
    "relationship_df['full_name'] = relationship_df.apply(lambda row: row['first_name'] + ' ' + row['last_name'],axis=1)"
   ]
  },
  {
   "cell_type": "code",
   "execution_count": 154,
   "metadata": {},
   "outputs": [],
   "source": [
    "relationship_df.drop(['first_name','last_name'],inplace=True,axis=1)"
   ]
  },
  {
   "cell_type": "code",
   "execution_count": 158,
   "metadata": {},
   "outputs": [],
   "source": [
    "outcomes = outcomes[['id','founded_at','funding_total_usd','status','exit_type','currency','valuation']]"
   ]
  },
  {
   "cell_type": "code",
   "execution_count": 159,
   "metadata": {},
   "outputs": [
    {
     "data": {
      "text/html": [
       "<div>\n",
       "<style scoped>\n",
       "    .dataframe tbody tr th:only-of-type {\n",
       "        vertical-align: middle;\n",
       "    }\n",
       "\n",
       "    .dataframe tbody tr th {\n",
       "        vertical-align: top;\n",
       "    }\n",
       "\n",
       "    .dataframe thead th {\n",
       "        text-align: right;\n",
       "    }\n",
       "</style>\n",
       "<table border=\"1\" class=\"dataframe\">\n",
       "  <thead>\n",
       "    <tr style=\"text-align: right;\">\n",
       "      <th></th>\n",
       "      <th>id</th>\n",
       "      <th>founded_at</th>\n",
       "      <th>funding_total_usd</th>\n",
       "      <th>status</th>\n",
       "      <th>exit_type</th>\n",
       "      <th>currency</th>\n",
       "      <th>valuation</th>\n",
       "    </tr>\n",
       "  </thead>\n",
       "  <tbody>\n",
       "    <tr>\n",
       "      <td>0</td>\n",
       "      <td>c:1</td>\n",
       "      <td>2005-10-17</td>\n",
       "      <td>39750000.0</td>\n",
       "      <td>operating</td>\n",
       "      <td>NaN</td>\n",
       "      <td>NaN</td>\n",
       "      <td>NaN</td>\n",
       "    </tr>\n",
       "  </tbody>\n",
       "</table>\n",
       "</div>"
      ],
      "text/plain": [
       "    id  founded_at  funding_total_usd     status exit_type currency  valuation\n",
       "0  c:1  2005-10-17         39750000.0  operating       NaN      NaN        NaN"
      ]
     },
     "execution_count": 159,
     "metadata": {},
     "output_type": "execute_result"
    }
   ],
   "source": [
    "outcomes.head(1)"
   ]
  },
  {
   "cell_type": "code",
   "execution_count": 163,
   "metadata": {},
   "outputs": [],
   "source": [
    "relationship_df = relationship_df.merge(outcomes,left_on='id',right_on='id',how='left')"
   ]
  },
  {
   "cell_type": "code",
   "execution_count": 164,
   "metadata": {},
   "outputs": [
    {
     "data": {
      "text/html": [
       "<div>\n",
       "<style scoped>\n",
       "    .dataframe tbody tr th:only-of-type {\n",
       "        vertical-align: middle;\n",
       "    }\n",
       "\n",
       "    .dataframe tbody tr th {\n",
       "        vertical-align: top;\n",
       "    }\n",
       "\n",
       "    .dataframe thead th {\n",
       "        text-align: right;\n",
       "    }\n",
       "</style>\n",
       "<table border=\"1\" class=\"dataframe\">\n",
       "  <thead>\n",
       "    <tr style=\"text-align: right;\">\n",
       "      <th></th>\n",
       "      <th>person_id</th>\n",
       "      <th>id</th>\n",
       "      <th>title</th>\n",
       "      <th>name</th>\n",
       "      <th>full_name</th>\n",
       "      <th>founded_at</th>\n",
       "      <th>funding_total_usd</th>\n",
       "      <th>status</th>\n",
       "      <th>exit_type</th>\n",
       "      <th>currency</th>\n",
       "      <th>valuation</th>\n",
       "    </tr>\n",
       "  </thead>\n",
       "  <tbody>\n",
       "    <tr>\n",
       "      <td>0</td>\n",
       "      <td>p:2</td>\n",
       "      <td>c:1</td>\n",
       "      <td>Co-Founder/CEO/Board of Directors</td>\n",
       "      <td>Wetpaint</td>\n",
       "      <td>Ben Elowitz</td>\n",
       "      <td>2005-10-17</td>\n",
       "      <td>39750000.0</td>\n",
       "      <td>operating</td>\n",
       "      <td>NaN</td>\n",
       "      <td>NaN</td>\n",
       "      <td>NaN</td>\n",
       "    </tr>\n",
       "  </tbody>\n",
       "</table>\n",
       "</div>"
      ],
      "text/plain": [
       "  person_id   id                              title      name    full_name  \\\n",
       "0       p:2  c:1  Co-Founder/CEO/Board of Directors  Wetpaint  Ben Elowitz   \n",
       "\n",
       "   founded_at  funding_total_usd     status exit_type currency  valuation  \n",
       "0  2005-10-17         39750000.0  operating       NaN      NaN        NaN  "
      ]
     },
     "execution_count": 164,
     "metadata": {},
     "output_type": "execute_result"
    }
   ],
   "source": [
    "relationship_df.head(1)"
   ]
  },
  {
   "cell_type": "code",
   "execution_count": 189,
   "metadata": {},
   "outputs": [],
   "source": [
    "founders = relationship_df.groupby('full_name').agg({'name':np.count_nonzero,'funding_total_usd':np.sum,'valuation':np.sum,'exit_type':np.count_nonzero}).reset_index()"
   ]
  },
  {
   "cell_type": "code",
   "execution_count": 191,
   "metadata": {},
   "outputs": [],
   "source": [
    "founders.sort_values(by='funding_total_usd',ascending=False,inplace=True)"
   ]
  },
  {
   "cell_type": "code",
   "execution_count": 192,
   "metadata": {},
   "outputs": [
    {
     "data": {
      "text/html": [
       "<div>\n",
       "<style scoped>\n",
       "    .dataframe tbody tr th:only-of-type {\n",
       "        vertical-align: middle;\n",
       "    }\n",
       "\n",
       "    .dataframe tbody tr th {\n",
       "        vertical-align: top;\n",
       "    }\n",
       "\n",
       "    .dataframe thead th {\n",
       "        text-align: right;\n",
       "    }\n",
       "</style>\n",
       "<table border=\"1\" class=\"dataframe\">\n",
       "  <thead>\n",
       "    <tr style=\"text-align: right;\">\n",
       "      <th></th>\n",
       "      <th>full_name</th>\n",
       "      <th>name</th>\n",
       "      <th>funding_total_usd</th>\n",
       "      <th>valuation</th>\n",
       "      <th>exit_type</th>\n",
       "    </tr>\n",
       "  </thead>\n",
       "  <tbody>\n",
       "    <tr>\n",
       "      <td>9464</td>\n",
       "      <td>Craig O. McCaw</td>\n",
       "      <td>2</td>\n",
       "      <td>1.140000e+10</td>\n",
       "      <td>0.000000e+00</td>\n",
       "      <td>2</td>\n",
       "    </tr>\n",
       "    <tr>\n",
       "      <td>18686</td>\n",
       "      <td>Jack Dorsey</td>\n",
       "      <td>3</td>\n",
       "      <td>2.660833e+09</td>\n",
       "      <td>3.620000e+10</td>\n",
       "      <td>3</td>\n",
       "    </tr>\n",
       "    <tr>\n",
       "      <td>13116</td>\n",
       "      <td>Dustin Moskovitz</td>\n",
       "      <td>2</td>\n",
       "      <td>2.463900e+09</td>\n",
       "      <td>1.040000e+11</td>\n",
       "      <td>2</td>\n",
       "    </tr>\n",
       "    <tr>\n",
       "      <td>13340</td>\n",
       "      <td>Eduardo Saverin</td>\n",
       "      <td>1</td>\n",
       "      <td>2.425700e+09</td>\n",
       "      <td>1.040000e+11</td>\n",
       "      <td>1</td>\n",
       "    </tr>\n",
       "    <tr>\n",
       "      <td>28253</td>\n",
       "      <td>Mark Zuckerberg</td>\n",
       "      <td>2</td>\n",
       "      <td>2.425700e+09</td>\n",
       "      <td>1.040000e+11</td>\n",
       "      <td>2</td>\n",
       "    </tr>\n",
       "    <tr>\n",
       "      <td>...</td>\n",
       "      <td>...</td>\n",
       "      <td>...</td>\n",
       "      <td>...</td>\n",
       "      <td>...</td>\n",
       "      <td>...</td>\n",
       "    </tr>\n",
       "    <tr>\n",
       "      <td>18825</td>\n",
       "      <td>Jacques Blom</td>\n",
       "      <td>1</td>\n",
       "      <td>0.000000e+00</td>\n",
       "      <td>0.000000e+00</td>\n",
       "      <td>1</td>\n",
       "    </tr>\n",
       "    <tr>\n",
       "      <td>18826</td>\n",
       "      <td>Jacques Gravel</td>\n",
       "      <td>1</td>\n",
       "      <td>0.000000e+00</td>\n",
       "      <td>0.000000e+00</td>\n",
       "      <td>1</td>\n",
       "    </tr>\n",
       "    <tr>\n",
       "      <td>18827</td>\n",
       "      <td>Jacques Habra</td>\n",
       "      <td>1</td>\n",
       "      <td>0.000000e+00</td>\n",
       "      <td>0.000000e+00</td>\n",
       "      <td>1</td>\n",
       "    </tr>\n",
       "    <tr>\n",
       "      <td>18828</td>\n",
       "      <td>Jacques Kotze</td>\n",
       "      <td>1</td>\n",
       "      <td>0.000000e+00</td>\n",
       "      <td>0.000000e+00</td>\n",
       "      <td>1</td>\n",
       "    </tr>\n",
       "    <tr>\n",
       "      <td>46841</td>\n",
       "      <td>Ülane Vilumets</td>\n",
       "      <td>1</td>\n",
       "      <td>0.000000e+00</td>\n",
       "      <td>0.000000e+00</td>\n",
       "      <td>1</td>\n",
       "    </tr>\n",
       "  </tbody>\n",
       "</table>\n",
       "<p>46842 rows × 5 columns</p>\n",
       "</div>"
      ],
      "text/plain": [
       "              full_name  name  funding_total_usd     valuation  exit_type\n",
       "9464     Craig O. McCaw     2       1.140000e+10  0.000000e+00          2\n",
       "18686       Jack Dorsey     3       2.660833e+09  3.620000e+10          3\n",
       "13116  Dustin Moskovitz     2       2.463900e+09  1.040000e+11          2\n",
       "13340   Eduardo Saverin     1       2.425700e+09  1.040000e+11          1\n",
       "28253   Mark Zuckerberg     2       2.425700e+09  1.040000e+11          2\n",
       "...                 ...   ...                ...           ...        ...\n",
       "18825      Jacques Blom     1       0.000000e+00  0.000000e+00          1\n",
       "18826    Jacques Gravel     1       0.000000e+00  0.000000e+00          1\n",
       "18827     Jacques Habra     1       0.000000e+00  0.000000e+00          1\n",
       "18828     Jacques Kotze     1       0.000000e+00  0.000000e+00          1\n",
       "46841    Ülane Vilumets     1       0.000000e+00  0.000000e+00          1\n",
       "\n",
       "[46842 rows x 5 columns]"
      ]
     },
     "execution_count": 192,
     "metadata": {},
     "output_type": "execute_result"
    }
   ],
   "source": [
    "founders"
   ]
  }
 ],
 "metadata": {
  "kernelspec": {
   "display_name": "Python 3",
   "language": "python",
   "name": "python3"
  },
  "language_info": {
   "codemirror_mode": {
    "name": "ipython",
    "version": 3
   },
   "file_extension": ".py",
   "mimetype": "text/x-python",
   "name": "python",
   "nbconvert_exporter": "python",
   "pygments_lexer": "ipython3",
   "version": "3.7.4"
  }
 },
 "nbformat": 4,
 "nbformat_minor": 2
}
